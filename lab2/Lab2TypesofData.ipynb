{
 "cells": [
  {
   "cell_type": "markdown",
   "metadata": {},
   "source": [
    "# Lab 2: Types of Data\n",
    "\n",
    "#### CPE232 Data Models\n",
    "---"
   ]
  },
  {
   "cell_type": "markdown",
   "metadata": {},
   "source": [
    "## [1] CSV"
   ]
  },
  {
   "cell_type": "code",
   "execution_count": 90,
   "metadata": {},
   "outputs": [],
   "source": [
    "import csv"
   ]
  },
  {
   "cell_type": "markdown",
   "metadata": {},
   "source": [
    "### 1.1 Writing new csv file\n",
    "\n",
    "*Note: Remember this example? We've already seen it in the last lab.*"
   ]
  },
  {
   "cell_type": "code",
   "execution_count": 91,
   "metadata": {},
   "outputs": [],
   "source": [
    "with open(\"test.csv\",\"w\",newline='') as file:\n",
    "        writer = csv.writer(file)\n",
    "        writer.writerow([\"Name\",\"Surname\"])\n",
    "        writer.writerow([\"Alice\",\"Johnson\"])\n",
    "        writer.writerow([\"Bob\",\"Smith\"])"
   ]
  },
  {
   "cell_type": "markdown",
   "metadata": {},
   "source": [
    "### 1.2 Reading a csv file"
   ]
  },
  {
   "cell_type": "code",
   "execution_count": 92,
   "metadata": {},
   "outputs": [
    {
     "name": "stdout",
     "output_type": "stream",
     "text": [
      "['Name', 'Surname']\n",
      "['Alice', 'Johnson']\n",
      "['Bob', 'Smith']\n"
     ]
    }
   ],
   "source": [
    "with open(\"test.csv\",\"r\") as file:\n",
    "    reader = csv.reader(file)\n",
    "    for row in reader:\n",
    "        print(row)"
   ]
  },
  {
   "cell_type": "markdown",
   "metadata": {},
   "source": [
    "### 1.3 Use pandas to read csv file"
   ]
  },
  {
   "cell_type": "code",
   "execution_count": 93,
   "metadata": {},
   "outputs": [
    {
     "data": {
      "text/html": [
       "<div>\n",
       "<style scoped>\n",
       "    .dataframe tbody tr th:only-of-type {\n",
       "        vertical-align: middle;\n",
       "    }\n",
       "\n",
       "    .dataframe tbody tr th {\n",
       "        vertical-align: top;\n",
       "    }\n",
       "\n",
       "    .dataframe thead th {\n",
       "        text-align: right;\n",
       "    }\n",
       "</style>\n",
       "<table border=\"1\" class=\"dataframe\">\n",
       "  <thead>\n",
       "    <tr style=\"text-align: right;\">\n",
       "      <th></th>\n",
       "      <th>Name</th>\n",
       "      <th>Surname</th>\n",
       "    </tr>\n",
       "  </thead>\n",
       "  <tbody>\n",
       "    <tr>\n",
       "      <th>0</th>\n",
       "      <td>Alice</td>\n",
       "      <td>Johnson</td>\n",
       "    </tr>\n",
       "    <tr>\n",
       "      <th>1</th>\n",
       "      <td>Bob</td>\n",
       "      <td>Smith</td>\n",
       "    </tr>\n",
       "  </tbody>\n",
       "</table>\n",
       "</div>"
      ],
      "text/plain": [
       "    Name  Surname\n",
       "0  Alice  Johnson\n",
       "1    Bob    Smith"
      ]
     },
     "execution_count": 93,
     "metadata": {},
     "output_type": "execute_result"
    }
   ],
   "source": [
    "import pandas as pd\n",
    "\n",
    "df = pd.read_csv('test.csv')\n",
    "\n",
    "df"
   ]
  },
  {
   "cell_type": "markdown",
   "metadata": {},
   "source": [
    "[Q1] Write a Python script that reads the **students.csv** file and prints the content of *the first 10 students* row by row."
   ]
  },
  {
   "cell_type": "code",
   "execution_count": 94,
   "metadata": {},
   "outputs": [
    {
     "data": {
      "text/html": [
       "<div>\n",
       "<style scoped>\n",
       "    .dataframe tbody tr th:only-of-type {\n",
       "        vertical-align: middle;\n",
       "    }\n",
       "\n",
       "    .dataframe tbody tr th {\n",
       "        vertical-align: top;\n",
       "    }\n",
       "\n",
       "    .dataframe thead th {\n",
       "        text-align: right;\n",
       "    }\n",
       "</style>\n",
       "<table border=\"1\" class=\"dataframe\">\n",
       "  <thead>\n",
       "    <tr style=\"text-align: right;\">\n",
       "      <th></th>\n",
       "      <th>Name</th>\n",
       "      <th>Age</th>\n",
       "      <th>Grade</th>\n",
       "    </tr>\n",
       "  </thead>\n",
       "  <tbody>\n",
       "    <tr>\n",
       "      <th>0</th>\n",
       "      <td>Alice</td>\n",
       "      <td>21</td>\n",
       "      <td>A</td>\n",
       "    </tr>\n",
       "    <tr>\n",
       "      <th>1</th>\n",
       "      <td>Bob</td>\n",
       "      <td>22</td>\n",
       "      <td>B</td>\n",
       "    </tr>\n",
       "    <tr>\n",
       "      <th>2</th>\n",
       "      <td>Charlie</td>\n",
       "      <td>20</td>\n",
       "      <td>C</td>\n",
       "    </tr>\n",
       "    <tr>\n",
       "      <th>3</th>\n",
       "      <td>David</td>\n",
       "      <td>23</td>\n",
       "      <td>A</td>\n",
       "    </tr>\n",
       "    <tr>\n",
       "      <th>4</th>\n",
       "      <td>Eve</td>\n",
       "      <td>19</td>\n",
       "      <td>B</td>\n",
       "    </tr>\n",
       "    <tr>\n",
       "      <th>5</th>\n",
       "      <td>Frank</td>\n",
       "      <td>25</td>\n",
       "      <td>C</td>\n",
       "    </tr>\n",
       "    <tr>\n",
       "      <th>6</th>\n",
       "      <td>Grace</td>\n",
       "      <td>22</td>\n",
       "      <td>A</td>\n",
       "    </tr>\n",
       "    <tr>\n",
       "      <th>7</th>\n",
       "      <td>Hank</td>\n",
       "      <td>24</td>\n",
       "      <td>B</td>\n",
       "    </tr>\n",
       "    <tr>\n",
       "      <th>8</th>\n",
       "      <td>Isla</td>\n",
       "      <td>18</td>\n",
       "      <td>C</td>\n",
       "    </tr>\n",
       "    <tr>\n",
       "      <th>9</th>\n",
       "      <td>Jack</td>\n",
       "      <td>20</td>\n",
       "      <td>A</td>\n",
       "    </tr>\n",
       "  </tbody>\n",
       "</table>\n",
       "</div>"
      ],
      "text/plain": [
       "      Name  Age Grade\n",
       "0    Alice   21     A\n",
       "1      Bob   22     B\n",
       "2  Charlie   20     C\n",
       "3    David   23     A\n",
       "4      Eve   19     B\n",
       "5    Frank   25     C\n",
       "6    Grace   22     A\n",
       "7     Hank   24     B\n",
       "8     Isla   18     C\n",
       "9     Jack   20     A"
      ]
     },
     "execution_count": 94,
     "metadata": {},
     "output_type": "execute_result"
    }
   ],
   "source": [
    "# Write your code here\n",
    "df = pd.read_csv('students.csv')\n",
    "df.head(10)\n"
   ]
  },
  {
   "cell_type": "markdown",
   "metadata": {},
   "source": [
    "[Q2] Load the **students.csv** file into a pandas DataFrame. Use pandas to filter the DataFrame and create a new DataFrame containing only students who received an \"A\" grade. Print the new DataFrame."
   ]
  },
  {
   "cell_type": "code",
   "execution_count": 95,
   "metadata": {},
   "outputs": [
    {
     "data": {
      "text/html": [
       "<div>\n",
       "<style scoped>\n",
       "    .dataframe tbody tr th:only-of-type {\n",
       "        vertical-align: middle;\n",
       "    }\n",
       "\n",
       "    .dataframe tbody tr th {\n",
       "        vertical-align: top;\n",
       "    }\n",
       "\n",
       "    .dataframe thead th {\n",
       "        text-align: right;\n",
       "    }\n",
       "</style>\n",
       "<table border=\"1\" class=\"dataframe\">\n",
       "  <thead>\n",
       "    <tr style=\"text-align: right;\">\n",
       "      <th></th>\n",
       "      <th>Name</th>\n",
       "      <th>Age</th>\n",
       "      <th>Grade</th>\n",
       "    </tr>\n",
       "  </thead>\n",
       "  <tbody>\n",
       "    <tr>\n",
       "      <th>0</th>\n",
       "      <td>Alice</td>\n",
       "      <td>21</td>\n",
       "      <td>A</td>\n",
       "    </tr>\n",
       "    <tr>\n",
       "      <th>1</th>\n",
       "      <td>David</td>\n",
       "      <td>23</td>\n",
       "      <td>A</td>\n",
       "    </tr>\n",
       "    <tr>\n",
       "      <th>2</th>\n",
       "      <td>Grace</td>\n",
       "      <td>22</td>\n",
       "      <td>A</td>\n",
       "    </tr>\n",
       "    <tr>\n",
       "      <th>3</th>\n",
       "      <td>Jack</td>\n",
       "      <td>20</td>\n",
       "      <td>A</td>\n",
       "    </tr>\n",
       "    <tr>\n",
       "      <th>4</th>\n",
       "      <td>Mia</td>\n",
       "      <td>24</td>\n",
       "      <td>A</td>\n",
       "    </tr>\n",
       "    <tr>\n",
       "      <th>5</th>\n",
       "      <td>Paul</td>\n",
       "      <td>19</td>\n",
       "      <td>A</td>\n",
       "    </tr>\n",
       "    <tr>\n",
       "      <th>6</th>\n",
       "      <td>Sam</td>\n",
       "      <td>21</td>\n",
       "      <td>A</td>\n",
       "    </tr>\n",
       "    <tr>\n",
       "      <th>7</th>\n",
       "      <td>Victor</td>\n",
       "      <td>24</td>\n",
       "      <td>A</td>\n",
       "    </tr>\n",
       "    <tr>\n",
       "      <th>8</th>\n",
       "      <td>Yara</td>\n",
       "      <td>18</td>\n",
       "      <td>A</td>\n",
       "    </tr>\n",
       "    <tr>\n",
       "      <th>9</th>\n",
       "      <td>Adam</td>\n",
       "      <td>19</td>\n",
       "      <td>A</td>\n",
       "    </tr>\n",
       "    <tr>\n",
       "      <th>10</th>\n",
       "      <td>Diana</td>\n",
       "      <td>24</td>\n",
       "      <td>A</td>\n",
       "    </tr>\n",
       "    <tr>\n",
       "      <th>11</th>\n",
       "      <td>Gavin</td>\n",
       "      <td>20</td>\n",
       "      <td>A</td>\n",
       "    </tr>\n",
       "    <tr>\n",
       "      <th>12</th>\n",
       "      <td>Julia</td>\n",
       "      <td>18</td>\n",
       "      <td>A</td>\n",
       "    </tr>\n",
       "    <tr>\n",
       "      <th>13</th>\n",
       "      <td>Mason</td>\n",
       "      <td>22</td>\n",
       "      <td>A</td>\n",
       "    </tr>\n",
       "    <tr>\n",
       "      <th>14</th>\n",
       "      <td>Piper</td>\n",
       "      <td>19</td>\n",
       "      <td>A</td>\n",
       "    </tr>\n",
       "    <tr>\n",
       "      <th>15</th>\n",
       "      <td>Steve</td>\n",
       "      <td>22</td>\n",
       "      <td>A</td>\n",
       "    </tr>\n",
       "    <tr>\n",
       "      <th>16</th>\n",
       "      <td>Vera</td>\n",
       "      <td>20</td>\n",
       "      <td>A</td>\n",
       "    </tr>\n",
       "    <tr>\n",
       "      <th>17</th>\n",
       "      <td>Yusuf</td>\n",
       "      <td>18</td>\n",
       "      <td>A</td>\n",
       "    </tr>\n",
       "    <tr>\n",
       "      <th>18</th>\n",
       "      <td>Brianna</td>\n",
       "      <td>24</td>\n",
       "      <td>A</td>\n",
       "    </tr>\n",
       "    <tr>\n",
       "      <th>19</th>\n",
       "      <td>Ethan</td>\n",
       "      <td>20</td>\n",
       "      <td>A</td>\n",
       "    </tr>\n",
       "  </tbody>\n",
       "</table>\n",
       "</div>"
      ],
      "text/plain": [
       "       Name  Age Grade\n",
       "0     Alice   21     A\n",
       "1     David   23     A\n",
       "2     Grace   22     A\n",
       "3      Jack   20     A\n",
       "4       Mia   24     A\n",
       "5      Paul   19     A\n",
       "6       Sam   21     A\n",
       "7    Victor   24     A\n",
       "8      Yara   18     A\n",
       "9      Adam   19     A\n",
       "10    Diana   24     A\n",
       "11    Gavin   20     A\n",
       "12    Julia   18     A\n",
       "13    Mason   22     A\n",
       "14    Piper   19     A\n",
       "15    Steve   22     A\n",
       "16     Vera   20     A\n",
       "17    Yusuf   18     A\n",
       "18  Brianna   24     A\n",
       "19    Ethan   20     A"
      ]
     },
     "execution_count": 95,
     "metadata": {},
     "output_type": "execute_result"
    }
   ],
   "source": [
    "# Write your code here\n",
    "df = pd.read_csv('students.csv')\n",
    "df_A_students = df[df['Grade'] == 'A']\n",
    "with open('Astudents.csv', 'w') as file:\n",
    "    writer = csv.writer(file)\n",
    "    writer.writerow([\"Name\", \"Age\", \"Grade\"])\n",
    "    for index, row in df.iterrows():\n",
    "        if row['Grade'] == 'A':\n",
    "            writer.writerow([row['Name'], row['Age'], row['Grade']])\n",
    "df = pd.read_csv('Astudents.csv')\n",
    "df"
   ]
  },
  {
   "cell_type": "markdown",
   "metadata": {},
   "source": [
    "[Q3] Add a new column to the DataFrame called \"Passed\" where the value is True if the grade is \"A\", and False otherwise. Print the updated DataFrame."
   ]
  },
  {
   "cell_type": "code",
   "execution_count": 96,
   "metadata": {},
   "outputs": [
    {
     "data": {
      "text/html": [
       "<div>\n",
       "<style scoped>\n",
       "    .dataframe tbody tr th:only-of-type {\n",
       "        vertical-align: middle;\n",
       "    }\n",
       "\n",
       "    .dataframe tbody tr th {\n",
       "        vertical-align: top;\n",
       "    }\n",
       "\n",
       "    .dataframe thead th {\n",
       "        text-align: right;\n",
       "    }\n",
       "</style>\n",
       "<table border=\"1\" class=\"dataframe\">\n",
       "  <thead>\n",
       "    <tr style=\"text-align: right;\">\n",
       "      <th></th>\n",
       "      <th>Name</th>\n",
       "      <th>Age</th>\n",
       "      <th>Grade</th>\n",
       "      <th>Passed</th>\n",
       "    </tr>\n",
       "  </thead>\n",
       "  <tbody>\n",
       "    <tr>\n",
       "      <th>0</th>\n",
       "      <td>Alice</td>\n",
       "      <td>21</td>\n",
       "      <td>A</td>\n",
       "      <td>True</td>\n",
       "    </tr>\n",
       "    <tr>\n",
       "      <th>1</th>\n",
       "      <td>Bob</td>\n",
       "      <td>22</td>\n",
       "      <td>B</td>\n",
       "      <td>False</td>\n",
       "    </tr>\n",
       "    <tr>\n",
       "      <th>2</th>\n",
       "      <td>Charlie</td>\n",
       "      <td>20</td>\n",
       "      <td>C</td>\n",
       "      <td>False</td>\n",
       "    </tr>\n",
       "    <tr>\n",
       "      <th>3</th>\n",
       "      <td>David</td>\n",
       "      <td>23</td>\n",
       "      <td>A</td>\n",
       "      <td>True</td>\n",
       "    </tr>\n",
       "    <tr>\n",
       "      <th>4</th>\n",
       "      <td>Eve</td>\n",
       "      <td>19</td>\n",
       "      <td>B</td>\n",
       "      <td>False</td>\n",
       "    </tr>\n",
       "    <tr>\n",
       "      <th>5</th>\n",
       "      <td>Frank</td>\n",
       "      <td>25</td>\n",
       "      <td>C</td>\n",
       "      <td>False</td>\n",
       "    </tr>\n",
       "    <tr>\n",
       "      <th>6</th>\n",
       "      <td>Grace</td>\n",
       "      <td>22</td>\n",
       "      <td>A</td>\n",
       "      <td>True</td>\n",
       "    </tr>\n",
       "    <tr>\n",
       "      <th>7</th>\n",
       "      <td>Hank</td>\n",
       "      <td>24</td>\n",
       "      <td>B</td>\n",
       "      <td>False</td>\n",
       "    </tr>\n",
       "    <tr>\n",
       "      <th>8</th>\n",
       "      <td>Isla</td>\n",
       "      <td>18</td>\n",
       "      <td>C</td>\n",
       "      <td>False</td>\n",
       "    </tr>\n",
       "    <tr>\n",
       "      <th>9</th>\n",
       "      <td>Jack</td>\n",
       "      <td>20</td>\n",
       "      <td>A</td>\n",
       "      <td>True</td>\n",
       "    </tr>\n",
       "    <tr>\n",
       "      <th>10</th>\n",
       "      <td>Karen</td>\n",
       "      <td>21</td>\n",
       "      <td>B</td>\n",
       "      <td>False</td>\n",
       "    </tr>\n",
       "    <tr>\n",
       "      <th>11</th>\n",
       "      <td>Liam</td>\n",
       "      <td>22</td>\n",
       "      <td>C</td>\n",
       "      <td>False</td>\n",
       "    </tr>\n",
       "    <tr>\n",
       "      <th>12</th>\n",
       "      <td>Mia</td>\n",
       "      <td>24</td>\n",
       "      <td>A</td>\n",
       "      <td>True</td>\n",
       "    </tr>\n",
       "    <tr>\n",
       "      <th>13</th>\n",
       "      <td>Nate</td>\n",
       "      <td>23</td>\n",
       "      <td>B</td>\n",
       "      <td>False</td>\n",
       "    </tr>\n",
       "    <tr>\n",
       "      <th>14</th>\n",
       "      <td>Olivia</td>\n",
       "      <td>25</td>\n",
       "      <td>C</td>\n",
       "      <td>False</td>\n",
       "    </tr>\n",
       "    <tr>\n",
       "      <th>15</th>\n",
       "      <td>Paul</td>\n",
       "      <td>19</td>\n",
       "      <td>A</td>\n",
       "      <td>True</td>\n",
       "    </tr>\n",
       "    <tr>\n",
       "      <th>16</th>\n",
       "      <td>Quinn</td>\n",
       "      <td>18</td>\n",
       "      <td>B</td>\n",
       "      <td>False</td>\n",
       "    </tr>\n",
       "    <tr>\n",
       "      <th>17</th>\n",
       "      <td>Ruby</td>\n",
       "      <td>22</td>\n",
       "      <td>C</td>\n",
       "      <td>False</td>\n",
       "    </tr>\n",
       "    <tr>\n",
       "      <th>18</th>\n",
       "      <td>Sam</td>\n",
       "      <td>21</td>\n",
       "      <td>A</td>\n",
       "      <td>True</td>\n",
       "    </tr>\n",
       "    <tr>\n",
       "      <th>19</th>\n",
       "      <td>Tina</td>\n",
       "      <td>20</td>\n",
       "      <td>B</td>\n",
       "      <td>False</td>\n",
       "    </tr>\n",
       "    <tr>\n",
       "      <th>20</th>\n",
       "      <td>Uma</td>\n",
       "      <td>19</td>\n",
       "      <td>C</td>\n",
       "      <td>False</td>\n",
       "    </tr>\n",
       "    <tr>\n",
       "      <th>21</th>\n",
       "      <td>Victor</td>\n",
       "      <td>24</td>\n",
       "      <td>A</td>\n",
       "      <td>True</td>\n",
       "    </tr>\n",
       "    <tr>\n",
       "      <th>22</th>\n",
       "      <td>Wendy</td>\n",
       "      <td>23</td>\n",
       "      <td>B</td>\n",
       "      <td>False</td>\n",
       "    </tr>\n",
       "    <tr>\n",
       "      <th>23</th>\n",
       "      <td>Xander</td>\n",
       "      <td>22</td>\n",
       "      <td>C</td>\n",
       "      <td>False</td>\n",
       "    </tr>\n",
       "    <tr>\n",
       "      <th>24</th>\n",
       "      <td>Yara</td>\n",
       "      <td>18</td>\n",
       "      <td>A</td>\n",
       "      <td>True</td>\n",
       "    </tr>\n",
       "    <tr>\n",
       "      <th>25</th>\n",
       "      <td>Zack</td>\n",
       "      <td>20</td>\n",
       "      <td>B</td>\n",
       "      <td>False</td>\n",
       "    </tr>\n",
       "    <tr>\n",
       "      <th>26</th>\n",
       "      <td>Adam</td>\n",
       "      <td>19</td>\n",
       "      <td>A</td>\n",
       "      <td>True</td>\n",
       "    </tr>\n",
       "    <tr>\n",
       "      <th>27</th>\n",
       "      <td>Beth</td>\n",
       "      <td>22</td>\n",
       "      <td>B</td>\n",
       "      <td>False</td>\n",
       "    </tr>\n",
       "    <tr>\n",
       "      <th>28</th>\n",
       "      <td>Cody</td>\n",
       "      <td>21</td>\n",
       "      <td>C</td>\n",
       "      <td>False</td>\n",
       "    </tr>\n",
       "    <tr>\n",
       "      <th>29</th>\n",
       "      <td>Diana</td>\n",
       "      <td>24</td>\n",
       "      <td>A</td>\n",
       "      <td>True</td>\n",
       "    </tr>\n",
       "    <tr>\n",
       "      <th>30</th>\n",
       "      <td>Edward</td>\n",
       "      <td>23</td>\n",
       "      <td>B</td>\n",
       "      <td>False</td>\n",
       "    </tr>\n",
       "    <tr>\n",
       "      <th>31</th>\n",
       "      <td>Fiona</td>\n",
       "      <td>25</td>\n",
       "      <td>C</td>\n",
       "      <td>False</td>\n",
       "    </tr>\n",
       "    <tr>\n",
       "      <th>32</th>\n",
       "      <td>Gavin</td>\n",
       "      <td>20</td>\n",
       "      <td>A</td>\n",
       "      <td>True</td>\n",
       "    </tr>\n",
       "    <tr>\n",
       "      <th>33</th>\n",
       "      <td>Holly</td>\n",
       "      <td>21</td>\n",
       "      <td>B</td>\n",
       "      <td>False</td>\n",
       "    </tr>\n",
       "    <tr>\n",
       "      <th>34</th>\n",
       "      <td>Ian</td>\n",
       "      <td>19</td>\n",
       "      <td>C</td>\n",
       "      <td>False</td>\n",
       "    </tr>\n",
       "    <tr>\n",
       "      <th>35</th>\n",
       "      <td>Julia</td>\n",
       "      <td>18</td>\n",
       "      <td>A</td>\n",
       "      <td>True</td>\n",
       "    </tr>\n",
       "    <tr>\n",
       "      <th>36</th>\n",
       "      <td>Kyle</td>\n",
       "      <td>24</td>\n",
       "      <td>B</td>\n",
       "      <td>False</td>\n",
       "    </tr>\n",
       "    <tr>\n",
       "      <th>37</th>\n",
       "      <td>Laura</td>\n",
       "      <td>23</td>\n",
       "      <td>C</td>\n",
       "      <td>False</td>\n",
       "    </tr>\n",
       "    <tr>\n",
       "      <th>38</th>\n",
       "      <td>Mason</td>\n",
       "      <td>22</td>\n",
       "      <td>A</td>\n",
       "      <td>True</td>\n",
       "    </tr>\n",
       "    <tr>\n",
       "      <th>39</th>\n",
       "      <td>Nina</td>\n",
       "      <td>25</td>\n",
       "      <td>B</td>\n",
       "      <td>False</td>\n",
       "    </tr>\n",
       "    <tr>\n",
       "      <th>40</th>\n",
       "      <td>Oscar</td>\n",
       "      <td>20</td>\n",
       "      <td>C</td>\n",
       "      <td>False</td>\n",
       "    </tr>\n",
       "    <tr>\n",
       "      <th>41</th>\n",
       "      <td>Piper</td>\n",
       "      <td>19</td>\n",
       "      <td>A</td>\n",
       "      <td>True</td>\n",
       "    </tr>\n",
       "    <tr>\n",
       "      <th>42</th>\n",
       "      <td>Quincy</td>\n",
       "      <td>18</td>\n",
       "      <td>B</td>\n",
       "      <td>False</td>\n",
       "    </tr>\n",
       "    <tr>\n",
       "      <th>43</th>\n",
       "      <td>Rosa</td>\n",
       "      <td>21</td>\n",
       "      <td>C</td>\n",
       "      <td>False</td>\n",
       "    </tr>\n",
       "    <tr>\n",
       "      <th>44</th>\n",
       "      <td>Steve</td>\n",
       "      <td>22</td>\n",
       "      <td>A</td>\n",
       "      <td>True</td>\n",
       "    </tr>\n",
       "    <tr>\n",
       "      <th>45</th>\n",
       "      <td>Tori</td>\n",
       "      <td>24</td>\n",
       "      <td>B</td>\n",
       "      <td>False</td>\n",
       "    </tr>\n",
       "    <tr>\n",
       "      <th>46</th>\n",
       "      <td>Ulysses</td>\n",
       "      <td>23</td>\n",
       "      <td>C</td>\n",
       "      <td>False</td>\n",
       "    </tr>\n",
       "    <tr>\n",
       "      <th>47</th>\n",
       "      <td>Vera</td>\n",
       "      <td>20</td>\n",
       "      <td>A</td>\n",
       "      <td>True</td>\n",
       "    </tr>\n",
       "    <tr>\n",
       "      <th>48</th>\n",
       "      <td>Will</td>\n",
       "      <td>25</td>\n",
       "      <td>B</td>\n",
       "      <td>False</td>\n",
       "    </tr>\n",
       "    <tr>\n",
       "      <th>49</th>\n",
       "      <td>Xenia</td>\n",
       "      <td>19</td>\n",
       "      <td>C</td>\n",
       "      <td>False</td>\n",
       "    </tr>\n",
       "    <tr>\n",
       "      <th>50</th>\n",
       "      <td>Yusuf</td>\n",
       "      <td>18</td>\n",
       "      <td>A</td>\n",
       "      <td>True</td>\n",
       "    </tr>\n",
       "    <tr>\n",
       "      <th>51</th>\n",
       "      <td>Zoe</td>\n",
       "      <td>21</td>\n",
       "      <td>B</td>\n",
       "      <td>False</td>\n",
       "    </tr>\n",
       "    <tr>\n",
       "      <th>52</th>\n",
       "      <td>Allen</td>\n",
       "      <td>22</td>\n",
       "      <td>C</td>\n",
       "      <td>False</td>\n",
       "    </tr>\n",
       "    <tr>\n",
       "      <th>53</th>\n",
       "      <td>Brianna</td>\n",
       "      <td>24</td>\n",
       "      <td>A</td>\n",
       "      <td>True</td>\n",
       "    </tr>\n",
       "    <tr>\n",
       "      <th>54</th>\n",
       "      <td>Caleb</td>\n",
       "      <td>23</td>\n",
       "      <td>B</td>\n",
       "      <td>False</td>\n",
       "    </tr>\n",
       "    <tr>\n",
       "      <th>55</th>\n",
       "      <td>Daisy</td>\n",
       "      <td>25</td>\n",
       "      <td>C</td>\n",
       "      <td>False</td>\n",
       "    </tr>\n",
       "    <tr>\n",
       "      <th>56</th>\n",
       "      <td>Ethan</td>\n",
       "      <td>20</td>\n",
       "      <td>A</td>\n",
       "      <td>True</td>\n",
       "    </tr>\n",
       "    <tr>\n",
       "      <th>57</th>\n",
       "      <td>Faith</td>\n",
       "      <td>19</td>\n",
       "      <td>B</td>\n",
       "      <td>False</td>\n",
       "    </tr>\n",
       "    <tr>\n",
       "      <th>58</th>\n",
       "      <td>George</td>\n",
       "      <td>18</td>\n",
       "      <td>C</td>\n",
       "      <td>False</td>\n",
       "    </tr>\n",
       "  </tbody>\n",
       "</table>\n",
       "</div>"
      ],
      "text/plain": [
       "       Name  Age Grade  Passed\n",
       "0     Alice   21     A    True\n",
       "1       Bob   22     B   False\n",
       "2   Charlie   20     C   False\n",
       "3     David   23     A    True\n",
       "4       Eve   19     B   False\n",
       "5     Frank   25     C   False\n",
       "6     Grace   22     A    True\n",
       "7      Hank   24     B   False\n",
       "8      Isla   18     C   False\n",
       "9      Jack   20     A    True\n",
       "10    Karen   21     B   False\n",
       "11     Liam   22     C   False\n",
       "12      Mia   24     A    True\n",
       "13     Nate   23     B   False\n",
       "14   Olivia   25     C   False\n",
       "15     Paul   19     A    True\n",
       "16    Quinn   18     B   False\n",
       "17     Ruby   22     C   False\n",
       "18      Sam   21     A    True\n",
       "19     Tina   20     B   False\n",
       "20      Uma   19     C   False\n",
       "21   Victor   24     A    True\n",
       "22    Wendy   23     B   False\n",
       "23   Xander   22     C   False\n",
       "24     Yara   18     A    True\n",
       "25     Zack   20     B   False\n",
       "26     Adam   19     A    True\n",
       "27     Beth   22     B   False\n",
       "28     Cody   21     C   False\n",
       "29    Diana   24     A    True\n",
       "30   Edward   23     B   False\n",
       "31    Fiona   25     C   False\n",
       "32    Gavin   20     A    True\n",
       "33    Holly   21     B   False\n",
       "34      Ian   19     C   False\n",
       "35    Julia   18     A    True\n",
       "36     Kyle   24     B   False\n",
       "37    Laura   23     C   False\n",
       "38    Mason   22     A    True\n",
       "39     Nina   25     B   False\n",
       "40    Oscar   20     C   False\n",
       "41    Piper   19     A    True\n",
       "42   Quincy   18     B   False\n",
       "43     Rosa   21     C   False\n",
       "44    Steve   22     A    True\n",
       "45     Tori   24     B   False\n",
       "46  Ulysses   23     C   False\n",
       "47     Vera   20     A    True\n",
       "48     Will   25     B   False\n",
       "49    Xenia   19     C   False\n",
       "50    Yusuf   18     A    True\n",
       "51      Zoe   21     B   False\n",
       "52    Allen   22     C   False\n",
       "53  Brianna   24     A    True\n",
       "54    Caleb   23     B   False\n",
       "55    Daisy   25     C   False\n",
       "56    Ethan   20     A    True\n",
       "57    Faith   19     B   False\n",
       "58   George   18     C   False"
      ]
     },
     "execution_count": 96,
     "metadata": {},
     "output_type": "execute_result"
    }
   ],
   "source": [
    "# Write your code here\n",
    "df = pd.read_csv('students.csv')\n",
    "df['Passed'] = df['Grade'].apply(lambda x: True if x == 'A' else False)\n",
    "df"
   ]
  },
  {
   "cell_type": "markdown",
   "metadata": {},
   "source": [
    "[Q4] Calculate the average age of the students in the DataFrame."
   ]
  },
  {
   "cell_type": "code",
   "execution_count": 97,
   "metadata": {},
   "outputs": [
    {
     "name": "stdout",
     "output_type": "stream",
     "text": [
      "Average Age: 21.39 years\n"
     ]
    }
   ],
   "source": [
    "# Write your code here\n",
    "df = pd.read_csv('students.csv')\n",
    "average_age = df['Age'].mean()\n",
    "print(f\"Average Age: {average_age:.2f} years\")"
   ]
  },
  {
   "cell_type": "markdown",
   "metadata": {},
   "source": [
    "[Q5] Calculate the average GPAX of **ALL** students in the DataFrame, where A=4, B=3, C=2, and D=1."
   ]
  },
  {
   "cell_type": "code",
   "execution_count": 98,
   "metadata": {},
   "outputs": [
    {
     "name": "stdout",
     "output_type": "stream",
     "text": [
      "Average GPAX: 3.02\n"
     ]
    }
   ],
   "source": [
    "# Write your code here\n",
    "df = pd.read_csv('students.csv')\n",
    "grade_to_gpax = {'A': 4, 'B': 3, 'C': 2, 'D': 1}\n",
    "df['GPAX'] = df['Grade'].map(grade_to_gpax)\n",
    "grade_to_gpax = df['GPAX'].mean()\n",
    "print(f\"Average GPAX: {grade_to_gpax:.2f}\")"
   ]
  },
  {
   "cell_type": "markdown",
   "metadata": {},
   "source": [
    "## [2] HTML"
   ]
  },
  {
   "cell_type": "markdown",
   "metadata": {},
   "source": [
    "### 2.1 Different tags in HTML\n",
    "\n",
    "**Basic Structure Tags:**\n",
    "- `<!DOCTYPE html>`: Declares the document type and version of HTML.\n",
    "- `<html>`: Root element of the HTML document.\n",
    "- `<head>`: Contains meta-information like the title, character set, and links to external resources (CSS, scripts).\n",
    "- `<title>`: Specifies the title of the webpage, visible in the browser tab.\n",
    "- `<body>`: Contains the visible content of the page.\n",
    "\n",
    "**Text Formatting Tags:**\n",
    "- `<h1>` - `<h6>`: Header tags (h1 is the largest, h6 is the smallest).\n",
    "- `<p>`: Paragraph tag, used to group text into paragraphs.\n",
    "- `<blockquote>`: Defines a block of text that is a quotation from another source.\n",
    "- `<code>`: Represents inline code.\n",
    "\n",
    "**Lists and Links:**\n",
    "- `<ul>`: Unordered list (bulleted).\n",
    "- `<ol>`: Ordered list (numbered).\n",
    "- `<li>`: List item, used inside `<ul>` or `<ol>`.\n",
    "- `<a>`: Anchor tag, used to create hyperlinks.\n",
    "- `<img>`: Image tag, used to embed images.\n",
    "\n",
    "**Tables:**\n",
    "- `<table>`: Defines a table.\n",
    "- `<tr>`: Table row.\n",
    "- `<th>`: Table header, defines header cells.\n",
    "- `<td>`: Table data, defines standard cells.\n",
    "\n",
    "and more..."
   ]
  },
  {
   "cell_type": "code",
   "execution_count": 99,
   "metadata": {},
   "outputs": [],
   "source": [
    "# pip install bs4"
   ]
  },
  {
   "cell_type": "code",
   "execution_count": 100,
   "metadata": {},
   "outputs": [],
   "source": [
    "from bs4 import BeautifulSoup"
   ]
  },
  {
   "cell_type": "markdown",
   "metadata": {},
   "source": [
    "### 2.2 Writing new HTML file"
   ]
  },
  {
   "cell_type": "code",
   "execution_count": 101,
   "metadata": {},
   "outputs": [],
   "source": [
    "html_temp = \"\"\"\n",
    "<!DOCTYPE html>\n",
    "<html>\n",
    "<head>\n",
    "    <title>Sample Blog</title>\n",
    "</head>\n",
    "<body>\n",
    "    <h2 class=\"article-title\">Article 1: Introduction to Web Scraping</h2>\n",
    "    <p class=\"article-content\">This is an introduction to web scraping using BeautifulSoup.</p>\n",
    "    <h2 class=\"article-title\">Article 2: Advanced Web Scraping Techniques</h2>\n",
    "    <p class=\"article-content\">Learn advanced techniques for web scraping with Python.</p>\n",
    "</body>\n",
    "</html>\n",
    "\"\"\"\n",
    "\n",
    "with open('html_file.html', 'w') as file:\n",
    "    file.write(html_temp)\n"
   ]
  },
  {
   "cell_type": "markdown",
   "metadata": {},
   "source": [
    "### 2.3 Reading HTML file"
   ]
  },
  {
   "cell_type": "code",
   "execution_count": 102,
   "metadata": {},
   "outputs": [
    {
     "name": "stdout",
     "output_type": "stream",
     "text": [
      "Sample Blog\n",
      "<h2 class=\"article-title\">Article 1: Introduction to Web Scraping</h2>\n"
     ]
    },
    {
     "ename": "AttributeError",
     "evalue": "'NoneType' object has no attribute 'text'",
     "output_type": "error",
     "traceback": [
      "\u001b[1;31m---------------------------------------------------------------------------\u001b[0m",
      "\u001b[1;31mAttributeError\u001b[0m                            Traceback (most recent call last)",
      "Cell \u001b[1;32mIn[102], line 9\u001b[0m\n\u001b[0;32m      7\u001b[0m \u001b[38;5;28mprint\u001b[39m(soup\u001b[38;5;241m.\u001b[39mtitle\u001b[38;5;241m.\u001b[39mtext)\n\u001b[0;32m      8\u001b[0m \u001b[38;5;28mprint\u001b[39m(soup\u001b[38;5;241m.\u001b[39mh2)\n\u001b[1;32m----> 9\u001b[0m \u001b[38;5;28mprint\u001b[39m(\u001b[43msoup\u001b[49m\u001b[38;5;241;43m.\u001b[39;49m\u001b[43mtable\u001b[49m\u001b[38;5;241;43m.\u001b[39;49m\u001b[43mtext\u001b[49m)\n",
      "\u001b[1;31mAttributeError\u001b[0m: 'NoneType' object has no attribute 'text'"
     ]
    }
   ],
   "source": [
    "with open('html_file.html') as html_file:\n",
    "    html_content = html_file.read()\n",
    "\n",
    "# Parse the HTML content\n",
    "soup = BeautifulSoup(html_content, 'html.parser')\n",
    "\n",
    "print(soup.title.text)\n",
    "print(soup.h2)\n",
    "print(soup.table.text)\n",
    "\n"
   ]
  },
  {
   "cell_type": "markdown",
   "metadata": {},
   "source": [
    "[Q6] Explain why the code above gives an error? Fix the code so that it runs without error.\n",
    "\n",
    "Ans: "
   ]
  },
  {
   "cell_type": "code",
   "execution_count": null,
   "metadata": {},
   "outputs": [],
   "source": [
    "# Write your code here\n",
    "# สาเหตุที่เกิด error เพราะ tag table ไม่มีใน html content \n",
    "# แก้โดย #print(soup.table.text) หรือการเพิ่ม tag table ใน html content"
   ]
  },
  {
   "cell_type": "markdown",
   "metadata": {},
   "source": [
    "[Q7] You are provided an HTML file named **students.html**. Write a Python script that extracts all the data from the table (headers and rows) and prints them row by row."
   ]
  },
  {
   "cell_type": "code",
   "execution_count": 103,
   "metadata": {},
   "outputs": [
    {
     "name": "stdout",
     "output_type": "stream",
     "text": [
      "Header : ['Name', 'Age', 'Grade']\n"
     ]
    }
   ],
   "source": [
    "# Write your code here\n",
    "with open('students.html') as html_file:\n",
    "    html_content = html_file.read()\n",
    "soup = BeautifulSoup(html_content, 'html.parser')\n",
    "headers = [th.text for th in soup.find_all('th')]\n",
    "print('Header :',headers)\n"
   ]
  },
  {
   "cell_type": "code",
   "execution_count": 104,
   "metadata": {},
   "outputs": [
    {
     "name": "stdout",
     "output_type": "stream",
     "text": [
      "['Alice', '21', 'A']\n",
      "['Bob', '22', 'B']\n",
      "['Charlie', '20', 'C']\n",
      "['David', '23', 'A']\n",
      "['Eve', '19', 'B']\n",
      "['Frank', '25', 'C']\n",
      "['Grace', '22', 'A']\n",
      "['Hank', '24', 'B']\n",
      "['Isla', '18', 'C']\n",
      "['Jack', '20', 'A']\n",
      "['Karen', '21', 'B']\n",
      "['Liam', '22', 'C']\n",
      "['Mia', '24', 'A']\n",
      "['Nate', '23', 'B']\n",
      "['Olivia', '25', 'C']\n",
      "['Paul', '19', 'A']\n",
      "['Quinn', '18', 'B']\n",
      "['Ruby', '22', 'C']\n",
      "['Sam', '21', 'A']\n",
      "['Tina', '20', 'B']\n",
      "['Uma', '19', 'C']\n",
      "['Victor', '24', 'A']\n",
      "['Wendy', '23', 'B']\n",
      "['Xander', '22', 'C']\n",
      "['Yara', '18', 'A']\n",
      "['Zack', '20', 'B']\n"
     ]
    }
   ],
   "source": [
    "rows = []\n",
    "for row in soup.find_all('tr')[1:]:\n",
    "    cells = row.find_all('td')\n",
    "    row_data = [cell.text.strip() for cell in cells]\n",
    "    if row_data:\n",
    "        rows.append(row_data)\n",
    "for row in rows:\n",
    "    print(row)"
   ]
  },
  {
   "cell_type": "markdown",
   "metadata": {},
   "source": [
    "[Q8] Modify the script to extract and print only the names of students who received a grade of \"A\"."
   ]
  },
  {
   "cell_type": "code",
   "execution_count": 105,
   "metadata": {},
   "outputs": [
    {
     "name": "stdout",
     "output_type": "stream",
     "text": [
      "Students who received grade 'A':\n",
      "Alice\n",
      "David\n",
      "Grace\n",
      "Jack\n",
      "Mia\n",
      "Paul\n",
      "Sam\n",
      "Victor\n",
      "Yara\n"
     ]
    }
   ],
   "source": [
    "# Write your code here\n",
    "soup = BeautifulSoup(html_content, 'html.parser')\n",
    "print(\"Students who received grade 'A':\")\n",
    "for row in soup.find_all('tr')[1:]:\n",
    "    cells = row.find_all('td')\n",
    "    if len(cells) == 3:  \n",
    "        name = cells[0].text.strip() \n",
    "        grade = cells[2].text.strip() \n",
    "        if grade == 'A': \n",
    "            print(name)\n"
   ]
  },
  {
   "cell_type": "markdown",
   "metadata": {},
   "source": [
    "## [3] XML"
   ]
  },
  {
   "cell_type": "code",
   "execution_count": 106,
   "metadata": {},
   "outputs": [],
   "source": [
    "import xml.etree.ElementTree as ET"
   ]
  },
  {
   "cell_type": "markdown",
   "metadata": {},
   "source": [
    "### 3.1 Writing new xml file"
   ]
  },
  {
   "cell_type": "code",
   "execution_count": 107,
   "metadata": {},
   "outputs": [],
   "source": [
    "root = ET.Element(\"data\")\n",
    "student = ET.SubElement(root, \"student\", name = \"Alice\")\n",
    "\n",
    "email = ET.SubElement(student, 'email')\n",
    "email.text = \"alice@mail.com\"\n",
    "\n",
    "age = ET.SubElement(student, 'age')\n",
    "age.text = \"21\"\n",
    "\n",
    "gender = ET.SubElement(student, 'gender')\n",
    "gender.text = \"F\"\n",
    "\n",
    "tree = ET.ElementTree(root)\n",
    "tree.write(\"xml_file.xml\")"
   ]
  },
  {
   "cell_type": "markdown",
   "metadata": {},
   "source": [
    "### 3.2 Modifying existing xml file"
   ]
  },
  {
   "cell_type": "code",
   "execution_count": 108,
   "metadata": {},
   "outputs": [],
   "source": [
    "tree = ET.parse('xml_file.xml')\n",
    "root = tree.getroot()\n",
    "\n",
    "for student in root:\n",
    "    for element in student:\n",
    "        if element.tag == \"age\":\n",
    "            element.text = \"22\"\n",
    "\n",
    "tree.write('xml_file.xml')"
   ]
  },
  {
   "cell_type": "markdown",
   "metadata": {},
   "source": [
    "### 3.3 Reading XML file"
   ]
  },
  {
   "cell_type": "code",
   "execution_count": 109,
   "metadata": {},
   "outputs": [
    {
     "name": "stdout",
     "output_type": "stream",
     "text": [
      "name: Alice\n",
      "email: alice@mail.com\n",
      "age: 22\n",
      "gender: F\n",
      "<data><student name=\"Alice\"><email>alice@mail.com</email><age>22</age><gender>F</gender></student></data>\n"
     ]
    }
   ],
   "source": [
    "tree = ET.parse('xml_file.xml')\n",
    "root = tree.getroot()\n",
    "\n",
    "for student in root:\n",
    "    print(f'name: {student.attrib[\"name\"]}')\n",
    "    for element in student:\n",
    "        print(f'{element.tag}: {element.text}')\n",
    "\n",
    "# Print the entire XML content\n",
    "xml_content = ET.tostring(root, encoding='utf-8').decode('utf-8')\n",
    "print(xml_content)"
   ]
  },
  {
   "cell_type": "markdown",
   "metadata": {},
   "source": [
    "### 3.4 Convert XML to List of Dictionary"
   ]
  },
  {
   "cell_type": "code",
   "execution_count": 110,
   "metadata": {},
   "outputs": [
    {
     "name": "stdout",
     "output_type": "stream",
     "text": [
      "[{'Name': 'Alice', 'Email': 'alice@mail.com', 'Age': '22', 'Gender': 'F'}]\n"
     ]
    }
   ],
   "source": [
    "data_list = []\n",
    "for line in root:\n",
    "    name = line.attrib.get('name')\n",
    "    email = line.find('email').text\n",
    "    age = line.find('age').text\n",
    "    gender = line.find('gender').text\n",
    "\n",
    "    data_list.append({\"Name\":name, \"Email\":email, \"Age\":age, \"Gender\":gender})\n",
    "    \n",
    "print(data_list)"
   ]
  },
  {
   "cell_type": "markdown",
   "metadata": {},
   "source": [
    "[Q9] Add your own data including Name, Email, Age and Gender to the XML file and put it in the existing data_list.\n",
    "\n",
    "*Note: You should show the data_list and XML file by reading the file.*"
   ]
  },
  {
   "cell_type": "code",
   "execution_count": 111,
   "metadata": {},
   "outputs": [
    {
     "name": "stdout",
     "output_type": "stream",
     "text": [
      "[{'Name': 'Alice', 'Email': 'alice@mail.com', 'Age': '22', 'Gender': 'F'}, {'Name': 'Kaewklaow', 'Email': 'punchaya.chan@gmail.com', 'Age': '22', 'Gender': 'F'}]\n"
     ]
    }
   ],
   "source": [
    "#Write you own code here\n",
    "new_person = {\n",
    "    \"Name\": \"Kaewklaow\", \n",
    "    \"Email\": \"punchaya.chan@gmail.com\",  \n",
    "    \"Age\": \"22\", \n",
    "    \"Gender\": \"F\"  \n",
    "}\n",
    "data_list.append(new_person)\n",
    "print(data_list)"
   ]
  },
  {
   "cell_type": "markdown",
   "metadata": {},
   "source": [
    "## [4] JSON"
   ]
  },
  {
   "cell_type": "code",
   "execution_count": 112,
   "metadata": {},
   "outputs": [],
   "source": [
    "import json"
   ]
  },
  {
   "cell_type": "markdown",
   "metadata": {},
   "source": [
    "### 4.1 Writing new json file"
   ]
  },
  {
   "cell_type": "code",
   "execution_count": 113,
   "metadata": {},
   "outputs": [],
   "source": [
    "# Data to be written to the JSON file\n",
    "data_to_write = {\n",
    "    \"people\": [\n",
    "        {\"name\": \"Alice\", \"age\": 30, \"city\": \"New York\"},\n",
    "        {\"name\": \"Bob\", \"age\": 25, \"city\": \"San Francisco\"},\n",
    "        {\"name\": \"Charlie\", \"age\": 35, \"city\": \"Los Angeles\"}\n",
    "    ]\n",
    "}\n",
    "\n",
    "# Open the file in write mode and write the data\n",
    "with open('json_file', 'w') as json_file:\n",
    "    json.dump(data_to_write, json_file, indent=2)\n"
   ]
  },
  {
   "cell_type": "markdown",
   "metadata": {},
   "source": [
    "### 4.2 Reading json file"
   ]
  },
  {
   "cell_type": "code",
   "execution_count": 114,
   "metadata": {},
   "outputs": [
    {
     "name": "stdout",
     "output_type": "stream",
     "text": [
      "{'people': [{'name': 'Alice', 'age': 30, 'city': 'New York'}, {'name': 'Bob', 'age': 25, 'city': 'San Francisco'}, {'name': 'Charlie', 'age': 35, 'city': 'Los Angeles'}]}\n",
      "Name: Alice, Age: 30, City: New York\n",
      "Name: Bob, Age: 25, City: San Francisco\n",
      "Name: Charlie, Age: 35, City: Los Angeles\n"
     ]
    }
   ],
   "source": [
    "with open('json_file', 'r') as file:\n",
    "    # Load JSON data\n",
    "    data = json.load(file)\n",
    "    \n",
    "print(data)\n",
    "\n",
    "people = data['people']\n",
    "\n",
    "# Print information about each person\n",
    "for person in people:\n",
    "    print(f\"Name: {person['name']}, Age: {person['age']}, City: {person['city']}\")\n"
   ]
  },
  {
   "cell_type": "markdown",
   "metadata": {},
   "source": [
    "[Q10] write a code to modify the existing json file so each person have a \"job\" data and print the result\n",
    "\n",
    "Ans: "
   ]
  },
  {
   "cell_type": "code",
   "execution_count": 115,
   "metadata": {},
   "outputs": [
    {
     "name": "stdout",
     "output_type": "stream",
     "text": [
      "{'people': [{'name': 'Alice', 'age': 30, 'city': 'New York', 'job': 'Engineer'}, {'name': 'Bob', 'age': 25, 'city': 'San Francisco', 'job': 'Designer'}, {'name': 'Charlie', 'age': 35, 'city': 'Los Angeles', 'job': 'Manager'}]}\n",
      "Name: Alice, Age: 30, City: New York, Job: Engineer\n",
      "Name: Bob, Age: 25, City: San Francisco, Job: Designer\n",
      "Name: Charlie, Age: 35, City: Los Angeles, Job: Manager\n"
     ]
    }
   ],
   "source": [
    "#write your own code here\n",
    "for person in data['people']:\n",
    "    if person['name'] == 'Alice':\n",
    "        person['job'] = 'Engineer'\n",
    "    elif person['name'] == 'Bob':\n",
    "        person['job'] = 'Designer'\n",
    "    elif person['name'] == 'Charlie':\n",
    "        person['job'] = 'Manager'\n",
    "with open('json_file', 'w') as json_file:\n",
    "    json.dump(data, json_file, indent=2)\n",
    "with open('json_file', 'r') as file:\n",
    "    updated_data = json.load(file)\n",
    "    print(updated_data)\n",
    "people = updated_data['people']\n",
    "for person in people:\n",
    "    print(f\"Name: {person['name']}, Age: {person['age']}, City: {person['city']}, Job: {person['job']}\")\n"
   ]
  }
 ],
 "metadata": {
  "kernelspec": {
   "display_name": "Python 3",
   "language": "python",
   "name": "python3"
  },
  "language_info": {
   "codemirror_mode": {
    "name": "ipython",
    "version": 3
   },
   "file_extension": ".py",
   "mimetype": "text/x-python",
   "name": "python",
   "nbconvert_exporter": "python",
   "pygments_lexer": "ipython3",
   "version": "3.11.9"
  },
  "orig_nbformat": 4
 },
 "nbformat": 4,
 "nbformat_minor": 2
}
